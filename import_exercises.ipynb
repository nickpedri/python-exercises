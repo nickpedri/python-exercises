{
 "cells": [
  {
   "cell_type": "code",
   "execution_count": 1,
   "id": "3a3ea4f2",
   "metadata": {},
   "outputs": [
    {
     "name": "stdout",
     "output_type": "stream",
     "text": [
      "########### QUESTION 1 ###############\n",
      "True\n",
      "True\n",
      "False\n",
      "########### QUESTION 2 ###############\n",
      "True\n",
      "True\n",
      "False\n",
      "########### QUESTION 3 ###############\n",
      "True\n",
      "True\n",
      "False\n",
      "False\n",
      "########### QUESTION 4 ###############\n",
      "Cheese\n",
      "america\n",
      "Work\n",
      "Tork\n",
      "########### QUESTION 5 ###############\n",
      "10.0\n",
      "30.0\n",
      "0.5\n",
      "########### QUESTION 6 ###############\n",
      "90.0\n",
      "950.0\n",
      "120.0\n",
      "########### QUESTION 7 ###############\n",
      "1000\n",
      "1000000\n",
      "100562345660\n",
      "<class 'int'>\n",
      "########### QUESTION 8 ###############\n",
      "A\n",
      "B\n",
      "C\n",
      "D\n",
      "F\n",
      "########### QUESTION 9 ###############\n",
      "TSTttttBHSFK\n",
      "########### QUESTION 10 ###############\n",
      "xxfa_jjsg___fasdfas\n",
      "completed\n",
      "completed\n",
      "########### QUESTION 11 ###############\n",
      "[1, 3, 6, 10, 15, 21, 28]\n",
      "########### BONUS ###############\n",
      "08:30\n",
      "20:30\n",
      "1\n",
      "26\n",
      "52\n",
      "55\n"
     ]
    }
   ],
   "source": [
    "import function_exercises as fe"
   ]
  },
  {
   "cell_type": "code",
   "execution_count": 2,
   "id": "3bc90b6a",
   "metadata": {},
   "outputs": [
    {
     "data": {
      "text/plain": [
       "'F'"
      ]
     },
     "execution_count": 2,
     "metadata": {},
     "output_type": "execute_result"
    }
   ],
   "source": [
    "fe.get_letter_grade(50)"
   ]
  },
  {
   "cell_type": "code",
   "execution_count": null,
   "id": "579861fd",
   "metadata": {},
   "outputs": [],
   "source": []
  }
 ],
 "metadata": {
  "kernelspec": {
   "display_name": "Python 3 (ipykernel)",
   "language": "python",
   "name": "python3"
  },
  "language_info": {
   "codemirror_mode": {
    "name": "ipython",
    "version": 3
   },
   "file_extension": ".py",
   "mimetype": "text/x-python",
   "name": "python",
   "nbconvert_exporter": "python",
   "pygments_lexer": "ipython3",
   "version": "3.10.9"
  }
 },
 "nbformat": 4,
 "nbformat_minor": 5
}
