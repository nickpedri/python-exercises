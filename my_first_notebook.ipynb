{
 "cells": [
  {
   "cell_type": "code",
   "execution_count": 3,
   "id": "4d304363",
   "metadata": {},
   "outputs": [
    {
     "name": "stdout",
     "output_type": "stream",
     "text": [
      "Hello\n"
     ]
    }
   ],
   "source": [
    "print('Hello')"
   ]
  },
  {
   "cell_type": "markdown",
   "id": "02e7b9d3",
   "metadata": {},
   "source": [
    "THIS IS A MARKDOWN. It is not code."
   ]
  },
  {
   "cell_type": "code",
   "execution_count": 4,
   "id": "c1f4f5ea",
   "metadata": {},
   "outputs": [
    {
     "name": "stdout",
     "output_type": "stream",
     "text": [
      "Shift + return will execute the current cell and create a new line\n"
     ]
    }
   ],
   "source": [
    "print('Shift + return will execute the current cell and create a new line')"
   ]
  },
  {
   "cell_type": "code",
   "execution_count": 5,
   "id": "c584073f",
   "metadata": {},
   "outputs": [
    {
     "name": "stdout",
     "output_type": "stream",
     "text": [
      "Clicking on a cell and pressing \"m\" will turn it into a markdown!\n"
     ]
    }
   ],
   "source": [
    "print('Clicking on a cell and pressing \"m\" will turn it into a markdown!')"
   ]
  },
  {
   "cell_type": "markdown",
   "id": "4d03831e",
   "metadata": {},
   "source": [
    "Markdown."
   ]
  },
  {
   "cell_type": "code",
   "execution_count": null,
   "id": "fd52e3bc",
   "metadata": {},
   "outputs": [],
   "source": []
  }
 ],
 "metadata": {
  "kernelspec": {
   "display_name": "Python 3 (ipykernel)",
   "language": "python",
   "name": "python3"
  },
  "language_info": {
   "codemirror_mode": {
    "name": "ipython",
    "version": 3
   },
   "file_extension": ".py",
   "mimetype": "text/x-python",
   "name": "python",
   "nbconvert_exporter": "python",
   "pygments_lexer": "ipython3",
   "version": "3.10.9"
  }
 },
 "nbformat": 4,
 "nbformat_minor": 5
}
