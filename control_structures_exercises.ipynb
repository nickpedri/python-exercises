{
 "cells": [
  {
   "cell_type": "markdown",
   "id": "c6cfae6b-097f-4f21-a674-fee4b27e74c5",
   "metadata": {},
   "source": [
    "1. Conditional Basics\n",
    "\n",
    "a Prompt the user for a day of the week, print out whether the day is Monday or not\n",
    "\n",
    "b Prompt the user for a day of the week, print out whether the day is a weekday or a weekend\n",
    "\n",
    "c Calculate a weekly paycheck, accounting for overtime pay. Create variables and make up values for:\n",
    "\n",
    "    The number of hours worked in one week\n",
    "    The hourly rate\n",
    "For calculating pay:\n",
    "\n",
    "    For working 40 hours or less, each hour is paid at the hourly rate\n",
    "    For working more than 40 hours\n",
    "\n",
    "    the first 40 hours are paid at the hourly rate\n",
    "\n",
    "    each hour after 40 is paid at time and a half (hourly rate * 1.5)"
   ]
  },
  {
   "cell_type": "code",
   "execution_count": 10,
   "id": "2d4a5b1a-a649-4aae-9f3b-c2d8b6795576",
   "metadata": {},
   "outputs": [
    {
     "name": "stdin",
     "output_type": "stream",
     "text": [
      "What day of the week is it? Monday\n"
     ]
    },
    {
     "name": "stdout",
     "output_type": "stream",
     "text": [
      "It is Monday\n"
     ]
    }
   ],
   "source": [
    "day = input('What day of the week is it?').lower()\n",
    "if day == 'monday':\n",
    "    print('It is Monday')\n",
    "else:\n",
    "    print('It is not Monday')"
   ]
  },
  {
   "cell_type": "code",
   "execution_count": 12,
   "id": "76e644ef-7df9-4320-9cd5-45784a7fd143",
   "metadata": {},
   "outputs": [
    {
     "name": "stdin",
     "output_type": "stream",
     "text": [
      "What day of the week is it? tuesday\n"
     ]
    },
    {
     "name": "stdout",
     "output_type": "stream",
     "text": [
      "It is a weekday :(/\n"
     ]
    }
   ],
   "source": [
    "day = input('What day of the week is it?').lower()\n",
    "if day == 'saturday' or day == 'sunday':\n",
    "    print('It is the weekend!')\n",
    "else:\n",
    "    print('It is a weekday.')"
   ]
  },
  {
   "cell_type": "code",
   "execution_count": 1,
   "id": "a326e458-ad91-47c7-ae43-2d7f25bf0f63",
   "metadata": {},
   "outputs": [
    {
     "name": "stdout",
     "output_type": "stream",
     "text": [
      "1650.0$\n"
     ]
    }
   ],
   "source": [
    "hours = 50\n",
    "hourly_rate = 30\n",
    "\n",
    "total = 0\n",
    "\n",
    "if hours <= 40:\n",
    "    total = (hours*hourly_rate)\n",
    "else:\n",
    "    total = (40*hourly_rate) + ((hours-40)*(hourly_rate*1.5))\n",
    "print(str(total) + '$')    "
   ]
  },
  {
   "cell_type": "markdown",
   "id": "4cb0ceaa-9139-4e75-81bf-be59f94b0eae",
   "metadata": {},
   "source": [
    "2. Loop Basics\n",
    "\n",
    "a. While\n",
    "\n",
    "    i. Create an integer variable i with a value of 5. Create a while loop that runs so long as i is less than or equal to 15. Each loop iteration, output the current value of i, then increment i by one."
   ]
  },
  {
   "cell_type": "code",
   "execution_count": 21,
   "id": "3303a3bd-5391-4e32-b472-50d613ab23de",
   "metadata": {},
   "outputs": [
    {
     "name": "stdout",
     "output_type": "stream",
     "text": [
      "5\n",
      "6\n",
      "7\n",
      "8\n",
      "9\n",
      "10\n",
      "11\n",
      "12\n",
      "13\n",
      "14\n",
      "15\n"
     ]
    }
   ],
   "source": [
    "i = 5\n",
    "\n",
    "while i <= 15:\n",
    "    print(i)\n",
    "    i += 1"
   ]
  },
  {
   "cell_type": "markdown",
   "id": "e2ca635f-b62d-4320-9dad-ed6954573700",
   "metadata": {},
   "source": [
    "    i.Create a while loop that will count by 2's starting with 0 and ending at 100. Follow each number with a new line.\n",
    "    ii. Create a while loop that starts at 2, and displays the number squared on each line while the number is less than 1,000,000. Output should equal:\n",
    "    iii. Write a while loop that uses print to create the output shown below."
   ]
  },
  {
   "cell_type": "code",
   "execution_count": 23,
   "id": "b1f9d834-67da-4c08-a8d2-b522d2a37717",
   "metadata": {},
   "outputs": [
    {
     "name": "stdout",
     "output_type": "stream",
     "text": [
      "0\n",
      "2\n",
      "4\n",
      "6\n",
      "8\n",
      "10\n",
      "12\n",
      "14\n",
      "16\n",
      "18\n",
      "20\n",
      "22\n",
      "24\n",
      "26\n",
      "28\n",
      "30\n",
      "32\n",
      "34\n",
      "36\n",
      "38\n",
      "40\n",
      "42\n",
      "44\n",
      "46\n",
      "48\n",
      "50\n",
      "52\n",
      "54\n",
      "56\n",
      "58\n",
      "60\n",
      "62\n",
      "64\n",
      "66\n",
      "68\n",
      "70\n",
      "72\n",
      "74\n",
      "76\n",
      "78\n",
      "80\n",
      "82\n",
      "84\n",
      "86\n",
      "88\n",
      "90\n",
      "92\n",
      "94\n",
      "96\n",
      "98\n",
      "100\n"
     ]
    }
   ],
   "source": [
    "n = 0\n",
    "while n <= 100:\n",
    "    print(n)\n",
    "    n += 2"
   ]
  },
  {
   "cell_type": "code",
   "execution_count": 25,
   "id": "e3bf4ad8-775a-4d5e-8365-ac6e96192025",
   "metadata": {},
   "outputs": [
    {
     "name": "stdout",
     "output_type": "stream",
     "text": [
      "2\n",
      "4\n",
      "16\n",
      "256\n",
      "65536\n"
     ]
    }
   ],
   "source": [
    "n = 2\n",
    "while n <= 1000000:\n",
    "    print(n)\n",
    "    n = n**2"
   ]
  },
  {
   "cell_type": "code",
   "execution_count": 26,
   "id": "468a17c7-9d52-46f5-a914-292cdd352dab",
   "metadata": {},
   "outputs": [
    {
     "name": "stdout",
     "output_type": "stream",
     "text": [
      "100\n",
      "95\n",
      "90\n",
      "85\n",
      "80\n",
      "75\n",
      "70\n",
      "65\n",
      "60\n",
      "55\n",
      "50\n",
      "45\n",
      "40\n",
      "35\n",
      "30\n",
      "25\n",
      "20\n",
      "15\n",
      "10\n",
      "5\n"
     ]
    }
   ],
   "source": [
    "n = 100\n",
    "while n > 0:\n",
    "    print(n)\n",
    "    n = n -5"
   ]
  },
  {
   "cell_type": "markdown",
   "id": "c6568458-61fa-4d83-a5b0-2bdc70b30c0c",
   "metadata": {},
   "source": [
    "b. For Loops\n",
    "\n",
    "    i. Write some code using a for loop that prompts the user for a number, then shows a multiplication table up through 10 for that number.\n",
    "    ii. Create a for loop that uses print to create the output shown below.\n"
   ]
  },
  {
   "cell_type": "code",
   "execution_count": 2,
   "id": "53d68901-8710-401b-9366-b402c489c598",
   "metadata": {},
   "outputs": [
    {
     "name": "stdin",
     "output_type": "stream",
     "text": [
      "Enter an integer: 6\n"
     ]
    },
    {
     "name": "stdout",
     "output_type": "stream",
     "text": [
      "6 x 1 = 6\n",
      "6 x 2 = 12\n",
      "6 x 3 = 18\n",
      "6 x 4 = 24\n",
      "6 x 5 = 30\n",
      "6 x 6 = 36\n",
      "6 x 7 = 42\n",
      "6 x 8 = 48\n",
      "6 x 9 = 54\n",
      "6 x 10 = 60\n"
     ]
    }
   ],
   "source": [
    "number = int(input('Enter an integer:'))\n",
    "\n",
    "for n in list(range(10)):\n",
    "    print(f'{number} x {n+1} = {number * (n+1)}')"
   ]
  },
  {
   "cell_type": "code",
   "execution_count": 33,
   "id": "65655632-ff72-4be9-9e40-5cb7d3bc20b9",
   "metadata": {},
   "outputs": [
    {
     "name": "stdout",
     "output_type": "stream",
     "text": [
      "1\n",
      "22\n",
      "333\n",
      "4444\n",
      "55555\n",
      "666666\n",
      "7777777\n",
      "88888888\n",
      "999999999\n"
     ]
    }
   ],
   "source": [
    "for n in range(9):\n",
    "    print(str(n+1)*(n+1))"
   ]
  },
  {
   "cell_type": "markdown",
   "id": "c477299b-315e-4923-a5b5-d71e116196fb",
   "metadata": {},
   "source": [
    "C. break and continue\n",
    "\n",
    "    i. Write a program that prompts the user for a positive integer. Next write a loop that prints out the numbers from the number the user entered down to 1.\n",
    "\n",
    "    ii. The input function can be used to prompt for input and use that input in your python code. Prompt the user to enter a positive number and write a loop that counts from 0 to that number. (Hints: note that the input function returns a string, so you'll need to convert this to a numeric type.)\n",
    "\n",
    "    iii. Prompt the user for an odd number between 1 and 50. Use a loop and a break statement to continue prompting the user if they enter invalid input. (Hint: use the isdigit method on strings to determine this). Use a loop and the continue statement to output all the odd numbers between 1 and 50, except for the number the user entered."
   ]
  },
  {
   "cell_type": "code",
   "execution_count": 37,
   "id": "b5e64b4a-7871-4ec9-9b34-7b5bbe1ef082",
   "metadata": {},
   "outputs": [
    {
     "name": "stdin",
     "output_type": "stream",
     "text": [
      "Enter a positive integer from 1-50:  10\n"
     ]
    },
    {
     "name": "stdout",
     "output_type": "stream",
     "text": [
      "10\n",
      "9\n",
      "8\n",
      "7\n",
      "6\n",
      "5\n",
      "4\n",
      "3\n",
      "2\n",
      "1\n"
     ]
    }
   ],
   "source": [
    "n = int(input('Enter a positive integer from 1-50: '))\n",
    "\n",
    "while n > 0:\n",
    "    print(n)\n",
    "    n -= 1"
   ]
  },
  {
   "cell_type": "code",
   "execution_count": 39,
   "id": "343695d9-f474-482a-80f1-a5409a5da0fe",
   "metadata": {},
   "outputs": [
    {
     "name": "stdin",
     "output_type": "stream",
     "text": [
      "Enter a positive integer from 1-50:  22\n"
     ]
    },
    {
     "name": "stdout",
     "output_type": "stream",
     "text": [
      "0\n",
      "1\n",
      "2\n",
      "3\n",
      "4\n",
      "5\n",
      "6\n",
      "7\n",
      "8\n",
      "9\n",
      "10\n",
      "11\n",
      "12\n",
      "13\n",
      "14\n",
      "15\n",
      "16\n",
      "17\n",
      "18\n",
      "19\n",
      "20\n",
      "21\n",
      "22\n"
     ]
    }
   ],
   "source": [
    "c = 0\n",
    "n = int(input('Enter a positive integer from 1-50: '))\n",
    "\n",
    "while c <= n:\n",
    "    print(c)\n",
    "    c += 1"
   ]
  },
  {
   "cell_type": "code",
   "execution_count": 52,
   "id": "ea089acb-a295-4390-9295-8f5337cbdadc",
   "metadata": {},
   "outputs": [
    {
     "name": "stdin",
     "output_type": "stream",
     "text": [
      "Enter an odd number between 1-50:  23\n"
     ]
    },
    {
     "name": "stdout",
     "output_type": "stream",
     "text": [
      "Number to skip: 23\n",
      "\n",
      "Here is an odd number: 1\n",
      "Here is an odd number: 3\n",
      "Here is an odd number: 5\n",
      "Here is an odd number: 7\n",
      "Here is an odd number: 9\n",
      "Here is an odd number: 11\n",
      "Here is an odd number: 13\n",
      "Here is an odd number: 15\n",
      "Here is an odd number: 17\n",
      "Here is an odd number: 19\n",
      "Here is an odd number: 21\n",
      "Skipped: 23\n",
      "Here is an odd number: 23\n",
      "Here is an odd number: 25\n",
      "Here is an odd number: 27\n",
      "Here is an odd number: 29\n",
      "Here is an odd number: 31\n",
      "Here is an odd number: 33\n",
      "Here is an odd number: 35\n",
      "Here is an odd number: 37\n",
      "Here is an odd number: 39\n",
      "Here is an odd number: 41\n",
      "Here is an odd number: 43\n",
      "Here is an odd number: 45\n",
      "Here is an odd number: 47\n",
      "Here is an odd number: 49\n"
     ]
    }
   ],
   "source": [
    "n = int(input('Enter an odd number between 1-50: '))\n",
    "\n",
    "print('Number to skip: ' + str(n))\n",
    "print('')\n",
    "\n",
    "nums = list(range(50))\n",
    "\n",
    "for num in nums:\n",
    "    if num % 2 == 0:\n",
    "        continue\n",
    "    if num == n:\n",
    "        print('Skipped: ' + str(n))\n",
    "    print('Here is an odd number: ' + str(num))\n",
    "    "
   ]
  },
  {
   "cell_type": "markdown",
   "id": "2e454897-b474-456a-b428-442d0777b0d5",
   "metadata": {},
   "source": [
    "3. Fizzbuzz\n",
    "\n",
    "One of the most common interview questions for entry-level programmers is the FizzBuzz test. Developed by Imran Ghory, the test is designed to test basic looping and conditional logic skills.\n",
    "\n",
    "Write a program that prints the numbers from 1 to 100.\n",
    "For multiples of three print \"Fizz\" instead of the number\n",
    "For the multiples of five print \"Buzz\".\n",
    "For numbers which are multiples of both three and five print \"FizzBuzz\"."
   ]
  },
  {
   "cell_type": "code",
   "execution_count": 5,
   "id": "db32dca6-1919-49f0-afd0-70fc2aacebce",
   "metadata": {},
   "outputs": [
    {
     "name": "stdout",
     "output_type": "stream",
     "text": [
      "1\n",
      "2\n",
      "Fizz\n",
      "4\n",
      "Buzz\n",
      "Fizz\n",
      "7\n",
      "8\n",
      "Fizz\n",
      "Buzz\n",
      "11\n",
      "Fizz\n",
      "13\n",
      "14\n",
      "Fizzbuzz\n",
      "16\n",
      "17\n",
      "Fizz\n",
      "19\n",
      "Buzz\n",
      "Fizz\n",
      "22\n",
      "23\n",
      "Fizz\n",
      "Buzz\n",
      "26\n",
      "Fizz\n",
      "28\n",
      "29\n",
      "Fizzbuzz\n",
      "31\n",
      "32\n",
      "Fizz\n",
      "34\n",
      "Buzz\n",
      "Fizz\n",
      "37\n",
      "38\n",
      "Fizz\n",
      "Buzz\n",
      "41\n",
      "Fizz\n",
      "43\n",
      "44\n",
      "Fizzbuzz\n",
      "46\n",
      "47\n",
      "Fizz\n",
      "49\n",
      "Buzz\n",
      "Fizz\n",
      "52\n",
      "53\n",
      "Fizz\n",
      "Buzz\n",
      "56\n",
      "Fizz\n",
      "58\n",
      "59\n",
      "Fizzbuzz\n",
      "61\n",
      "62\n",
      "Fizz\n",
      "64\n",
      "Buzz\n",
      "Fizz\n",
      "67\n",
      "68\n",
      "Fizz\n",
      "Buzz\n",
      "71\n",
      "Fizz\n",
      "73\n",
      "74\n",
      "Fizzbuzz\n",
      "76\n",
      "77\n",
      "Fizz\n",
      "79\n",
      "Buzz\n",
      "Fizz\n",
      "82\n",
      "83\n",
      "Fizz\n",
      "Buzz\n",
      "86\n",
      "Fizz\n",
      "88\n",
      "89\n",
      "Fizzbuzz\n",
      "91\n",
      "92\n",
      "Fizz\n",
      "94\n",
      "Buzz\n",
      "Fizz\n",
      "97\n",
      "98\n",
      "Fizz\n",
      "Buzz\n"
     ]
    }
   ],
   "source": [
    "fizzy = list(range(1,101))\n",
    "\n",
    "for n in fizzy:\n",
    "    if n % 3 == 0 and n % 5 == 0:\n",
    "        print('Fizzbuzz')\n",
    "    elif n % 3 == 0:\n",
    "        print('Fizz')\n",
    "    elif n % 5 == 0:\n",
    "        print('Buzz')\n",
    "    else:\n",
    "        print(n)"
   ]
  },
  {
   "cell_type": "markdown",
   "id": "48b0df3c-d7d6-4e6a-92f1-1d6f5c31d146",
   "metadata": {},
   "source": [
    "4. Display a table of powers.\n",
    "\n",
    "Prompt the user to enter an integer\n",
    "Display a table of squares and cubes from 1 to the value entered\n",
    "Ask if the user wants to continue\n",
    "Assume that the user will enter valid data\n",
    "Only continue if the user agrees to"
   ]
  },
  {
   "cell_type": "code",
   "execution_count": 81,
   "id": "6a4d81f2-46b4-4801-bbb0-286f030b4d55",
   "metadata": {},
   "outputs": [
    {
     "name": "stdin",
     "output_type": "stream",
     "text": [
      "Enter an integer:  5\n"
     ]
    },
    {
     "name": "stdout",
     "output_type": "stream",
     "text": [
      "1    1    1\n",
      "2    4    8\n",
      "3    9    27\n",
      "4    16    64\n",
      "5    25    125\n"
     ]
    },
    {
     "name": "stdin",
     "output_type": "stream",
     "text": [
      "Continue?    Y/N Y\n",
      "Enter an integer:  13\n"
     ]
    },
    {
     "name": "stdout",
     "output_type": "stream",
     "text": [
      "1    1    1\n",
      "2    4    8\n",
      "3    9    27\n",
      "4    16    64\n",
      "5    25    125\n",
      "6    36    216\n",
      "7    49    343\n",
      "8    64    512\n",
      "9    81    729\n",
      "10    100    1000\n",
      "11    121    1331\n",
      "12    144    1728\n",
      "13    169    2197\n"
     ]
    },
    {
     "name": "stdin",
     "output_type": "stream",
     "text": [
      "Continue?    Y/N N\n"
     ]
    }
   ],
   "source": [
    "n = int(input('Enter an integer: '))\n",
    "i = 1\n",
    "cont = ''\n",
    "\n",
    "while i <= n:\n",
    "    print(str(i) + '    ' + str(i**2) + '    ' + str(i**3))\n",
    "    if i == n:\n",
    "        cont = input('Continue?    Y/N')\n",
    "    if cont == 'N':\n",
    "        break\n",
    "    if cont == 'Y':\n",
    "        cont = ''\n",
    "        i = 0\n",
    "        n = int(input('Enter an integer: '))\n",
    "    i += 1"
   ]
  },
  {
   "cell_type": "markdown",
   "id": "cf960c36-b42a-4005-854c-0cc445888418",
   "metadata": {},
   "source": [
    "5. Convert given number grades into letter grades.\n",
    "\n",
    "    Prompt the user for a numerical grade from 0 to 100\n",
    "    Display the corresponding letter grade\n",
    "    Prompt the user to continue\n",
    "    Assume that the user will enter valid integers for the grades\n",
    "    The application should only continue if the user agrees to\n",
    "    Grade Ranges:\n",
    "\n",
    "        A : 100 - 88\n",
    "        B : 87 - 80\n",
    "        C : 79 - 67\n",
    "        D : 66 - 60\n",
    "        F : 59 - 0\n",
    "        \n",
    "        "
   ]
  },
  {
   "cell_type": "code",
   "execution_count": 85,
   "id": "3493c3df-ad21-4e00-814f-297733ca4809",
   "metadata": {},
   "outputs": [
    {
     "name": "stdin",
     "output_type": "stream",
     "text": [
      "Enter grade from 0-100:  99\n"
     ]
    },
    {
     "name": "stdout",
     "output_type": "stream",
     "text": [
      "A\n"
     ]
    },
    {
     "name": "stdin",
     "output_type": "stream",
     "text": [
      "Continue?    Y/N Y\n",
      "Enter grade from 0-100:  23\n"
     ]
    },
    {
     "name": "stdout",
     "output_type": "stream",
     "text": [
      "F!\n"
     ]
    },
    {
     "name": "stdin",
     "output_type": "stream",
     "text": [
      "Continue?    Y/N N\n"
     ]
    }
   ],
   "source": [
    "while True:\n",
    "    grade = int(input('Enter grade from 0-100: '))\n",
    "    if grade >= 88:\n",
    "        print('A')\n",
    "    elif grade >= 80:\n",
    "        print('B')\n",
    "    elif grade >= 67:\n",
    "        print('C')\n",
    "    elif grade >= 60:\n",
    "        print('D')\n",
    "    else:\n",
    "        print('F!')\n",
    "    cont = input('Continue?    Y/N')\n",
    "    if cont == 'N':\n",
    "        break"
   ]
  },
  {
   "cell_type": "markdown",
   "id": "43cd9109-f148-419e-9f15-cde947e5d0dc",
   "metadata": {},
   "source": [
    "6. Create a list of dictionaries where each dictionary represents a book that you have read. Each dictionary in the list should have the keys title, author, and genre. Loop through the list and print out information about each book.\n",
    "\n",
    "    a. Prompt the user to enter a genre, then loop through your books list and print out the titles of all the books in that genre."
   ]
  },
  {
   "cell_type": "code",
   "execution_count": 87,
   "id": "f95bf676-6684-42ac-8020-6c01f0d29957",
   "metadata": {},
   "outputs": [
    {
     "name": "stdout",
     "output_type": "stream",
     "text": [
      "{'Title': 'Game of Thrones', 'Author': 'George', 'Genre': 'Fiction'}\n",
      "{'Title': 'Hairy Potter', 'Author': 'Rowling', 'Genre': 'Fantasy'}\n",
      "{'Title': 'Game of Thrones', 'Author': 'Sun Tzu', 'Genre': 'Treatise'}\n"
     ]
    }
   ],
   "source": [
    "GoT = {'Title' :'Game of Thrones',\n",
    "       'Author':'George',\n",
    "       'Genre' :'Fiction' }\n",
    "\n",
    "HP = {'Title'  :'Hairy Potter',\n",
    "       'Author':'Rowling',\n",
    "       'Genre' :'Fantasy' }\n",
    "\n",
    "AoW = {'Title' :'Game of Thrones',\n",
    "       'Author':'Sun Tzu',\n",
    "       'Genre' :'Treatise' }\n",
    "\n",
    "books = [GoT, HP, AoW]\n",
    "\n",
    "for book in books:\n",
    "    print(book)"
   ]
  },
  {
   "cell_type": "code",
   "execution_count": null,
   "id": "4f732f7e-2e8c-4f84-b143-e1616fc97874",
   "metadata": {},
   "outputs": [],
   "source": [
    "user_genre = input('Choose a book genre: ')\n",
    "\n",
    "for book in books:\n",
    "    if user_genre == book.get('Genre'):\n",
    "        print(book)\n",
    "    else:\n",
    "        continue"
   ]
  },
  {
   "cell_type": "markdown",
   "id": "a8a53e7e-c6f8-4679-8eec-e768fea55d5f",
   "metadata": {},
   "source": [
    "###BONUS"
   ]
  },
  {
   "cell_type": "code",
   "execution_count": 94,
   "id": "5b0ca96e-d069-43ac-9e67-beff143d36e1",
   "metadata": {},
   "outputs": [
    {
     "name": "stdin",
     "output_type": "stream",
     "text": [
      "Enter an integer:  7\n"
     ]
    },
    {
     "name": "stdout",
     "output_type": "stream",
     "text": [
      "1      1      1  \n",
      "2      4      8  \n",
      "3      9      27 \n",
      "4      16     64 \n",
      "5      25     125\n",
      "6      36     216\n",
      "7      49     343\n"
     ]
    },
    {
     "name": "stdin",
     "output_type": "stream",
     "text": [
      "Continue?    Y/N N\n"
     ]
    }
   ],
   "source": [
    "n = int(input('Enter an integer: '))\n",
    "i = 1\n",
    "cont = ''\n",
    "\n",
    "while i <= n:\n",
    "    print(str(i).ljust(3) + '    ' + str(i**2).ljust(3) + '    ' + str(i**3).ljust(3))\n",
    "    if i == n:\n",
    "        cont = input('Continue?    Y/N')\n",
    "    if cont == 'N':\n",
    "        break\n",
    "    if cont == 'Y':\n",
    "        cont = ''\n",
    "        i = 0\n",
    "        n = int(input('Enter an integer: '))\n",
    "    i += 1"
   ]
  },
  {
   "cell_type": "code",
   "execution_count": 100,
   "id": "f4269f90-3f21-471e-b6c8-18395e78df16",
   "metadata": {},
   "outputs": [
    {
     "name": "stdin",
     "output_type": "stream",
     "text": [
      "Enter grade from 0-100:  97\n"
     ]
    },
    {
     "name": "stdout",
     "output_type": "stream",
     "text": [
      "A+\n"
     ]
    },
    {
     "name": "stdin",
     "output_type": "stream",
     "text": [
      "Continue?    Y/N Y\n",
      "Enter grade from 0-100:  95\n"
     ]
    },
    {
     "name": "stdout",
     "output_type": "stream",
     "text": [
      "A\n"
     ]
    },
    {
     "name": "stdin",
     "output_type": "stream",
     "text": [
      "Continue?    Y/N Y\n",
      "Enter grade from 0-100:  90\n"
     ]
    },
    {
     "name": "stdout",
     "output_type": "stream",
     "text": [
      "A-\n"
     ]
    },
    {
     "name": "stdin",
     "output_type": "stream",
     "text": [
      "Continue?    Y/N N\n"
     ]
    }
   ],
   "source": [
    "while True:\n",
    "    grade = int(input('Enter grade from 0-100: '))\n",
    "    if grade >= 88:\n",
    "        if grade >= 97:\n",
    "            print('A+')\n",
    "        elif grade > 93:\n",
    "            print('A')\n",
    "        elif grade > 87:\n",
    "            print('A-')\n",
    "    elif grade >= 80:\n",
    "        print('B')\n",
    "    elif grade >= 67:\n",
    "        print('C')\n",
    "    elif grade >= 60:\n",
    "        print('D')\n",
    "    else:\n",
    "        print('F!')\n",
    "    cont = input('Continue?    Y/N')\n",
    "    if cont == 'N':\n",
    "        break"
   ]
  },
  {
   "cell_type": "code",
   "execution_count": null,
   "id": "11b9cb15-0aa1-4459-bfe5-8b87d74d7e9e",
   "metadata": {},
   "outputs": [],
   "source": []
  }
 ],
 "metadata": {
  "kernelspec": {
   "display_name": "Python 3 (ipykernel)",
   "language": "python",
   "name": "python3"
  },
  "language_info": {
   "codemirror_mode": {
    "name": "ipython",
    "version": 3
   },
   "file_extension": ".py",
   "mimetype": "text/x-python",
   "name": "python",
   "nbconvert_exporter": "python",
   "pygments_lexer": "ipython3",
   "version": "3.10.9"
  }
 },
 "nbformat": 4,
 "nbformat_minor": 5
}
